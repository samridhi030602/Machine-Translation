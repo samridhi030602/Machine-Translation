{
 "cells": [
  {
   "cell_type": "code",
   "execution_count": 11,
   "metadata": {},
   "outputs": [
    {
     "name": "stderr",
     "output_type": "stream",
     "text": [
      "2023-10-30 16:33:03 INFO: Checking for updates to resources.json in case models have been updated.  Note: this behavior can be turned off with download_method=None or download_method=DownloadMethod.REUSE_RESOURCES\n",
      "Downloading https://raw.githubusercontent.com/stanfordnlp/stanza-resources/main/resources_1.6.0.json: 367kB [00:00, 5.44MB/s]                    \n",
      "2023-10-30 16:33:04 INFO: Loading these models for language: en (English):\n",
      "======================================\n",
      "| Processor    | Package             |\n",
      "--------------------------------------\n",
      "| tokenize     | combined            |\n",
      "| pos          | combined_charlm     |\n",
      "| constituency | ptb3-revised_charlm |\n",
      "======================================\n",
      "\n",
      "2023-10-30 16:33:04 INFO: Using device: cpu\n",
      "2023-10-30 16:33:04 INFO: Loading: tokenize\n",
      "2023-10-30 16:33:04 INFO: Loading: pos\n",
      "2023-10-30 16:33:04 INFO: Loading: constituency\n",
      "2023-10-30 16:33:05 INFO: Done loading processors!\n"
     ]
    },
    {
     "name": "stdout",
     "output_type": "stream",
     "text": [
      "(ROOT (S (NP (DT This)) (VP (VBZ is) (NP (DT a) (NN test)))))\n"
     ]
    }
   ],
   "source": [
    "import stanza\n",
    "\n",
    "nlp = stanza.Pipeline(lang='en', processors='tokenize,pos,constituency')\n",
    "doc = nlp('This is a test')\n",
    "for sentence in doc.sentences:\n",
    "    print(sentence.constituency)"
   ]
  },
  {
   "cell_type": "code",
   "execution_count": 13,
   "metadata": {},
   "outputs": [],
   "source": [
    "tree = doc.sentences[0].constituency"
   ]
  },
  {
   "cell_type": "code",
   "execution_count": 15,
   "metadata": {},
   "outputs": [
    {
     "data": {
      "text/plain": [
       "(S (NP (DT This)) (VP (VBZ is) (NP (DT a) (NN test))))"
      ]
     },
     "execution_count": 15,
     "metadata": {},
     "output_type": "execute_result"
    }
   ],
   "source": [
    "tree.children[0]\n"
   ]
  },
  {
   "cell_type": "code",
   "execution_count": 3,
   "metadata": {},
   "outputs": [
    {
     "name": "stderr",
     "output_type": "stream",
     "text": [
      "2023-10-31 13:35:24 INFO: Writing properties to tmp file: corenlp_server-58d8f733afb7412c.props\n",
      "2023-10-31 13:35:24 INFO: Starting server with command: java -Xmx16G -cp C:\\Users\\aryan\\stanza_corenlp\\* edu.stanford.nlp.pipeline.StanfordCoreNLPServer -port 90 -timeout 30000 -threads 5 -maxCharLength 100000 -quiet False -serverProperties corenlp_server-58d8f733afb7412c.props -preload -outputFormat serialized\n"
     ]
    },
    {
     "name": "stdout",
     "output_type": "stream",
     "text": [
      "---\n",
      "Albert Einstein was a German-born theoretical physicist. He developed the theory of relativity.\n",
      "\tAlbert Einstein\n",
      "\ta German-born theoretical physicist\n",
      "\tHe\n",
      "\tthe theory of relativity\n",
      "\tthe theory\n",
      "\trelativity\n"
     ]
    }
   ],
   "source": [
    "from stanza.server import CoreNLPClient\n",
    "\n",
    "# get noun phrases with tregex\n",
    "def noun_phrases(_client, _text, _annotators=None):\n",
    "    pattern = 'NP'\n",
    "    matches = _client.tregex(_text,pattern,annotators=_annotators)\n",
    "    print(\"\\n\".join([\"\\t\"+sentence[match_id]['spanString'] for sentence in matches['sentences'] for match_id in sentence]))\n",
    "\n",
    "# English example\n",
    "with CoreNLPClient(endpoint='http://localhost:90',timeout=30000, memory='16G') as client:\n",
    "    englishText = \"Albert Einstein was a German-born theoretical physicist. He developed the theory of relativity.\"\n",
    "    print('---')\n",
    "    print(englishText)\n",
    "    noun_phrases(client,englishText,_annotators=\"tokenize,ssplit,pos,lemma,parse\")"
   ]
  },
  {
   "cell_type": "code",
   "execution_count": 4,
   "metadata": {},
   "outputs": [
    {
     "name": "stderr",
     "output_type": "stream",
     "text": [
      "2023-10-31 13:52:24 INFO: Writing properties to tmp file: corenlp_server-89ce0028f70e4fd2.props\n",
      "2023-10-31 13:52:24 INFO: Starting server with command: java -Xmx16G -cp C:\\Users\\aryan\\stanza_corenlp\\* edu.stanford.nlp.pipeline.StanfordCoreNLPServer -port 91 -timeout 30000 -threads 5 -maxCharLength 100000 -quiet False -serverProperties corenlp_server-89ce0028f70e4fd2.props -preload -outputFormat serialized\n"
     ]
    },
    {
     "name": "stdout",
     "output_type": "stream",
     "text": [
      "---\n",
      "Albert Einstein was a German-born theoretical physicist. He developed the theory of relativity.\n",
      "\n"
     ]
    }
   ],
   "source": [
    "from stanza.server import CoreNLPClient\n",
    "\n",
    "# get noun phrases with tregex\n",
    "def noun_phrases(_client, _text, _annotators=None):\n",
    "    pattern = 'ADVP'\n",
    "    matches = _client.tregex(_text,pattern,annotators=_annotators)\n",
    "    print(\"\\n\".join([\"\\t\"+sentence[match_id]['spanString'] for sentence in matches['sentences'] for match_id in sentence]))\n",
    "\n",
    "# English example\n",
    "with CoreNLPClient(endpoint='http://localhost:91',timeout=30000, memory='16G') as client:\n",
    "    englishText = \"Albert Einstein was a German-born theoretical physicist. He developed the theory of relativity.\"\n",
    "    print('---')\n",
    "    print(englishText)\n",
    "    noun_phrases(client,englishText,_annotators=\"tokenize,ssplit,pos,lemma,parse\")"
   ]
  },
  {
   "cell_type": "code",
   "execution_count": 5,
   "metadata": {},
   "outputs": [
    {
     "name": "stderr",
     "output_type": "stream",
     "text": [
      "2023-10-31 13:53:07 INFO: Writing properties to tmp file: corenlp_server-dbc12a2b8db84b12.props\n",
      "2023-10-31 13:53:07 INFO: Starting server with command: java -Xmx16G -cp C:\\Users\\aryan\\stanza_corenlp\\* edu.stanford.nlp.pipeline.StanfordCoreNLPServer -port 92 -timeout 30000 -threads 5 -maxCharLength 100000 -quiet False -serverProperties corenlp_server-dbc12a2b8db84b12.props -preload -outputFormat serialized\n"
     ]
    },
    {
     "name": "stdout",
     "output_type": "stream",
     "text": [
      "---\n",
      "Albert Einstein was a German-born theoretical physicist. He developed the theory of relativity.\n",
      "\twas a German-born theoretical physicist\n",
      "\tdeveloped the theory of relativity\n"
     ]
    }
   ],
   "source": [
    "from stanza.server import CoreNLPClient\n",
    "\n",
    "# get noun phrases with tregex\n",
    "def noun_phrases(_client, _text, _annotators=None):\n",
    "    pattern = 'VP'\n",
    "    matches = _client.tregex(_text,pattern,annotators=_annotators)\n",
    "    print(\"\\n\".join([\"\\t\"+sentence[match_id]['spanString'] for sentence in matches['sentences'] for match_id in sentence]))\n",
    "\n",
    "# English example\n",
    "with CoreNLPClient(endpoint='http://localhost:92',timeout=30000, memory='16G') as client:\n",
    "    englishText = \"Albert Einstein was a German-born theoretical physicist. He developed the theory of relativity.\"\n",
    "    print('---')\n",
    "    print(englishText)\n",
    "    noun_phrases(client,englishText,_annotators=\"tokenize,ssplit,pos,lemma,parse\")"
   ]
  },
  {
   "cell_type": "code",
   "execution_count": null,
   "metadata": {},
   "outputs": [],
   "source": [
    "from stanza.server import CoreNLPClient\n",
    "\n",
    "# get noun phrases with tregex\n",
    "def noun_phrases(_client, _text, _annotators=None):\n",
    "    pattern = 'PP'\n",
    "    matches = _client.tregex(_text,pattern,annotators=_annotators)\n",
    "    print(\"\\n\".join([\"\\t\"+sentence[match_id]['spanString'] for sentence in matches['sentences'] for match_id in sentence]))\n",
    "\n",
    "# English example\n",
    "with CoreNLPClient(endpoint='http://localhost:93',timeout=30000, memory='16G') as client:\n",
    "    englishText = \"Albert Einstein was a German-born theoretical physicist. He developed the theory of relativity.\"\n",
    "    print('---')\n",
    "    print(englishText)\n",
    "    noun_phrases(client,englishText,_annotators=\"tokenize,ssplit,pos,lemma,parse\")"
   ]
  }
 ],
 "metadata": {
  "kernelspec": {
   "display_name": "machine",
   "language": "python",
   "name": "python3"
  },
  "language_info": {
   "codemirror_mode": {
    "name": "ipython",
    "version": 3
   },
   "file_extension": ".py",
   "mimetype": "text/x-python",
   "name": "python",
   "nbconvert_exporter": "python",
   "pygments_lexer": "ipython3",
   "version": "3.10.13"
  }
 },
 "nbformat": 4,
 "nbformat_minor": 2
}
